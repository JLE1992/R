{
 "cells": [
  {
   "cell_type": "markdown",
   "metadata": {},
   "source": [
    "### Simulação de Monte Carlo em R feita com base no exemplo do livro:"
   ]
  },
  {
   "cell_type": "markdown",
   "metadata": {},
   "source": [
    "## Pesquisa Operacional para os Cursos de Administração e Engenharia, 4ª Edição, 2010. Autores: Ermes Medeiros, Elio Medeiros, Valter Gonçalves e Afrânio Carlos Murolo.\n",
    "\n",
    "#### Exemplo de Aplicação da página 143:\n",
    "\n",
    "Um feirante faz compras de ovos uma vez por semana num entreposto atacadista.\n",
    "Os ovos não vendidos dentro de uma semana se estragam, e são descartados, acarretando prejuízo de 400 u.m por dúzia.\n",
    "Por outro lado, a falta de produto para a venda também acarreta perda, estimada em 150 u.m por dúzia demandada e não vendida.\n",
    "O feirante anotou a demanda das últimas 20 semanas e dividiu-as em sete classes, conforme quadro abaixo:\n"
   ]
  },
  {
   "cell_type": "code",
   "execution_count": null,
   "metadata": {},
   "outputs": [],
   "source": [
    "setwd ('C:/FCD/DataScienceAcademy/MeusProjetos/R')\n",
    "getwd ()"
   ]
  },
  {
   "cell_type": "markdown",
   "metadata": {},
   "source": [
    "### Quadro\n",
    "\n",
    "Classe - Limite Inferior(LI) e Superior(LS).\n",
    "\n",
    "ex.: 200 |- 210"
   ]
  },
  {
   "cell_type": "code",
   "execution_count": 1,
   "metadata": {},
   "outputs": [
    {
     "data": {
      "text/html": [
       "<table>\n",
       "<thead><tr><th scope=col>LI</th><th scope=col>LS</th><th scope=col>Media</th><th scope=col>Frequencia</th></tr></thead>\n",
       "<tbody>\n",
       "\t<tr><td>200</td><td>210</td><td>205</td><td> 2 </td></tr>\n",
       "\t<tr><td>210</td><td>220</td><td>215</td><td> 5 </td></tr>\n",
       "\t<tr><td>220</td><td>230</td><td>225</td><td> 9 </td></tr>\n",
       "\t<tr><td>230</td><td>240</td><td>235</td><td>10 </td></tr>\n",
       "\t<tr><td>240</td><td>250</td><td>245</td><td> 7 </td></tr>\n",
       "\t<tr><td>250</td><td>260</td><td>255</td><td> 4 </td></tr>\n",
       "\t<tr><td>260</td><td>270</td><td>265</td><td> 3 </td></tr>\n",
       "</tbody>\n",
       "</table>\n"
      ],
      "text/latex": [
       "\\begin{tabular}{r|llll}\n",
       " LI & LS & Media & Frequencia\\\\\n",
       "\\hline\n",
       "\t 200 & 210 & 205 &  2 \\\\\n",
       "\t 210 & 220 & 215 &  5 \\\\\n",
       "\t 220 & 230 & 225 &  9 \\\\\n",
       "\t 230 & 240 & 235 & 10 \\\\\n",
       "\t 240 & 250 & 245 &  7 \\\\\n",
       "\t 250 & 260 & 255 &  4 \\\\\n",
       "\t 260 & 270 & 265 &  3 \\\\\n",
       "\\end{tabular}\n"
      ],
      "text/markdown": [
       "\n",
       "| LI | LS | Media | Frequencia |\n",
       "|---|---|---|---|\n",
       "| 200 | 210 | 205 |  2  |\n",
       "| 210 | 220 | 215 |  5  |\n",
       "| 220 | 230 | 225 |  9  |\n",
       "| 230 | 240 | 235 | 10  |\n",
       "| 240 | 250 | 245 |  7  |\n",
       "| 250 | 260 | 255 |  4  |\n",
       "| 260 | 270 | 265 |  3  |\n",
       "\n"
      ],
      "text/plain": [
       "  LI  LS  Media Frequencia\n",
       "1 200 210 205    2        \n",
       "2 210 220 215    5        \n",
       "3 220 230 225    9        \n",
       "4 230 240 235   10        \n",
       "5 240 250 245    7        \n",
       "6 250 260 255    4        \n",
       "7 260 270 265    3        "
      ]
     },
     "metadata": {},
     "output_type": "display_data"
    }
   ],
   "source": [
    "Quadro = data.frame(LI = c(200, 210, 220, 230, 240, 250, 260),\n",
    "                    LS = c(210, 220, 230, 240, 250, 260, 270),\n",
    "                    Media = c(205, 215, 225, 235, 245, 255, 265),\n",
    "                    Frequencia = c(2, 5, 9, 10, 7, 4, 3))\n",
    "Quadro"
   ]
  },
  {
   "cell_type": "markdown",
   "metadata": {},
   "source": [
    "#### Testar hipóteses\n",
    "\n",
    "1 - Comprar cada semana a demanda efetiva da semana anterior\n",
    "\n",
    "2 - Comprar uma quantidade igual a média histórica anotada no período anterior de 40 semanas (média = valor inteiro mais\n",
    "próximo da média verificada).\n",
    "\n",
    "3 - O exame dos resultados sugere o teste de outra hipótese?\n",
    "\n",
    "Vamos simular a primeira hipótese para 20 semanas. Os limites para os números aleatórios são obtidos através da frequência acumulada relativa, conforme mostra a tabela:"
   ]
  },
  {
   "cell_type": "markdown",
   "metadata": {},
   "source": [
    "### Tabela de Frequências\n",
    "\n",
    "LAI (Limite aleatório inferior) \n",
    "\n",
    "LAS (Limite aleatório Superior)"
   ]
  },
  {
   "cell_type": "code",
   "execution_count": 2,
   "metadata": {
    "scrolled": true
   },
   "outputs": [
    {
     "data": {
      "text/html": [
       "<table>\n",
       "<thead><tr><th scope=col>Media</th><th scope=col>Frequencia</th><th scope=col>Freq.Relativa</th><th scope=col>Freq.Relativa.a.1000</th><th scope=col>Freq.Acumulada</th><th scope=col>LAI</th><th scope=col>LAS</th></tr></thead>\n",
       "<tbody>\n",
       "\t<tr><td>205 </td><td> 2  </td><td> 5.0</td><td> 50 </td><td>  50</td><td>  0 </td><td> 49 </td></tr>\n",
       "\t<tr><td>215 </td><td> 5  </td><td>12.5</td><td>125 </td><td> 175</td><td> 50 </td><td>174 </td></tr>\n",
       "\t<tr><td>225 </td><td> 9  </td><td>22.5</td><td>225 </td><td> 400</td><td>175 </td><td>399 </td></tr>\n",
       "\t<tr><td>235 </td><td>10  </td><td>25.0</td><td>250 </td><td> 650</td><td>400 </td><td>649 </td></tr>\n",
       "\t<tr><td>245 </td><td> 7  </td><td>17.5</td><td>175 </td><td> 825</td><td>650 </td><td>824 </td></tr>\n",
       "\t<tr><td>255 </td><td> 4  </td><td>10.0</td><td>100 </td><td> 925</td><td>825 </td><td>924 </td></tr>\n",
       "\t<tr><td>265 </td><td> 3  </td><td> 7.5</td><td> 75 </td><td>1000</td><td>925 </td><td>999 </td></tr>\n",
       "</tbody>\n",
       "</table>\n"
      ],
      "text/latex": [
       "\\begin{tabular}{r|lllllll}\n",
       " Media & Frequencia & Freq.Relativa & Freq.Relativa.a.1000 & Freq.Acumulada & LAI & LAS\\\\\n",
       "\\hline\n",
       "\t 205  &  2   &  5.0 &  50  &   50 &   0  &  49 \\\\\n",
       "\t 215  &  5   & 12.5 & 125  &  175 &  50  & 174 \\\\\n",
       "\t 225  &  9   & 22.5 & 225  &  400 & 175  & 399 \\\\\n",
       "\t 235  & 10   & 25.0 & 250  &  650 & 400  & 649 \\\\\n",
       "\t 245  &  7   & 17.5 & 175  &  825 & 650  & 824 \\\\\n",
       "\t 255  &  4   & 10.0 & 100  &  925 & 825  & 924 \\\\\n",
       "\t 265  &  3   &  7.5 &  75  & 1000 & 925  & 999 \\\\\n",
       "\\end{tabular}\n"
      ],
      "text/markdown": [
       "\n",
       "| Media | Frequencia | Freq.Relativa | Freq.Relativa.a.1000 | Freq.Acumulada | LAI | LAS |\n",
       "|---|---|---|---|---|---|---|\n",
       "| 205  |  2   |  5.0 |  50  |   50 |   0  |  49  |\n",
       "| 215  |  5   | 12.5 | 125  |  175 |  50  | 174  |\n",
       "| 225  |  9   | 22.5 | 225  |  400 | 175  | 399  |\n",
       "| 235  | 10   | 25.0 | 250  |  650 | 400  | 649  |\n",
       "| 245  |  7   | 17.5 | 175  |  825 | 650  | 824  |\n",
       "| 255  |  4   | 10.0 | 100  |  925 | 825  | 924  |\n",
       "| 265  |  3   |  7.5 |  75  | 1000 | 925  | 999  |\n",
       "\n"
      ],
      "text/plain": [
       "  Media Frequencia Freq.Relativa Freq.Relativa.a.1000 Freq.Acumulada LAI LAS\n",
       "1 205    2          5.0           50                    50             0  49\n",
       "2 215    5         12.5          125                   175            50 174\n",
       "3 225    9         22.5          225                   400           175 399\n",
       "4 235   10         25.0          250                   650           400 649\n",
       "5 245    7         17.5          175                   825           650 824\n",
       "6 255    4         10.0          100                   925           825 924\n",
       "7 265    3          7.5           75                  1000           925 999"
      ]
     },
     "metadata": {},
     "output_type": "display_data"
    }
   ],
   "source": [
    "Tabela.Frequencia = data.frame(Media = c(205, 215, 225, 235, 245, 255, 265),\n",
    "                     Frequencia = c(2, 5, 9, 10, 7, 4, 3),\n",
    "                     Freq.Relativa = c(5, 12.5, 22.5, 25, 17.5, 10, 7.5),\n",
    "                     Freq.Relativa.a.1000 = c(50, 125, 225, 250, 175, 100, 75),\n",
    "                     Freq.Acumulada = c(50, 175, 400, 650, 825, 925, 1000),\n",
    "                     LAI = c(0, 50, 175, 400, 650, 825, 925),\n",
    "                     LAS = c(49, 174, 399, 649, 824, 924, 999))\n",
    "Tabela.Frequencia"
   ]
  },
  {
   "cell_type": "markdown",
   "metadata": {},
   "source": [
    "A partir da tabela de números aleatórios, levantamos uma sequencia de vinte números de três algarismos, como já anteriormente descrito. Para iniciar o processo, vamos aceitar a demanda anterior à primeira semana igual a média do período anterior."
   ]
  },
  {
   "cell_type": "markdown",
   "metadata": {},
   "source": [
    "### Média Ponderada\n",
    "\n",
    "#### Função: weighted.mean()\n"
   ]
  },
  {
   "cell_type": "code",
   "execution_count": 3,
   "metadata": {},
   "outputs": [
    {
     "data": {
      "text/html": [
       "235"
      ],
      "text/latex": [
       "235"
      ],
      "text/markdown": [
       "235"
      ],
      "text/plain": [
       "[1] 235"
      ]
     },
     "metadata": {},
     "output_type": "display_data"
    }
   ],
   "source": [
    "MediaPonderada = round(weighted.mean(Tabela.Frequencia$Media, Tabela.Frequencia$Frequencia))\n",
    "MediaPonderada"
   ]
  },
  {
   "cell_type": "markdown",
   "metadata": {},
   "source": [
    "### Simulação de Monte Carlo \n",
    "\n",
    "#### 1ª Hipótese: \n",
    "Comprar cada semana a demanda efetiva da semana anterior"
   ]
  },
  {
   "cell_type": "code",
   "execution_count": 4,
   "metadata": {},
   "outputs": [
    {
     "data": {
      "text/html": [
       "<table>\n",
       "<thead><tr><th scope=col>Semana</th><th scope=col>Aleatorio</th><th scope=col>Demanda</th><th scope=col>Estoque.Inicial</th><th scope=col>Venda</th><th scope=col>Estoque.Final</th><th scope=col>Custo.Falta</th><th scope=col>Custo.Sobras</th><th scope=col>Custo.Total</th></tr></thead>\n",
       "<tbody>\n",
       "\t<tr><td> 1   </td><td> 43  </td><td>205  </td><td>235  </td><td>205  </td><td>30   </td><td>   0 </td><td>12000</td><td>12000</td></tr>\n",
       "\t<tr><td> 2   </td><td>869  </td><td>255  </td><td>205  </td><td>205  </td><td> 0   </td><td>7500 </td><td>    0</td><td> 7500</td></tr>\n",
       "\t<tr><td> 3   </td><td>356  </td><td>225  </td><td>255  </td><td>225  </td><td>30   </td><td>   0 </td><td>12000</td><td>12000</td></tr>\n",
       "\t<tr><td> 4   </td><td> 75  </td><td>215  </td><td>225  </td><td>215  </td><td>10   </td><td>   0 </td><td> 4000</td><td> 4000</td></tr>\n",
       "\t<tr><td> 5   </td><td>617  </td><td>235  </td><td>215  </td><td>215  </td><td> 0   </td><td>3000 </td><td>    0</td><td> 3000</td></tr>\n",
       "\t<tr><td> 6   </td><td>658  </td><td>245  </td><td>235  </td><td>235  </td><td> 0   </td><td>1500 </td><td>    0</td><td> 1500</td></tr>\n",
       "\t<tr><td> 7   </td><td>790  </td><td>245  </td><td>245  </td><td>245  </td><td> 0   </td><td>   0 </td><td>    0</td><td>    0</td></tr>\n",
       "\t<tr><td> 8   </td><td>487  </td><td>235  </td><td>245  </td><td>235  </td><td>10   </td><td>   0 </td><td> 4000</td><td> 4000</td></tr>\n",
       "\t<tr><td> 9   </td><td>398  </td><td>225  </td><td>235  </td><td>225  </td><td>10   </td><td>   0 </td><td> 4000</td><td> 4000</td></tr>\n",
       "\t<tr><td>10   </td><td> 48  </td><td>205  </td><td>225  </td><td>205  </td><td>20   </td><td>   0 </td><td> 8000</td><td> 8000</td></tr>\n",
       "\t<tr><td>11   </td><td>775  </td><td>245  </td><td>205  </td><td>205  </td><td> 0   </td><td>6000 </td><td>    0</td><td> 6000</td></tr>\n",
       "\t<tr><td>12   </td><td>160  </td><td>215  </td><td>245  </td><td>215  </td><td>30   </td><td>   0 </td><td>12000</td><td>12000</td></tr>\n",
       "\t<tr><td>13   </td><td>831  </td><td>255  </td><td>215  </td><td>215  </td><td> 0   </td><td>6000 </td><td>    0</td><td> 6000</td></tr>\n",
       "\t<tr><td>14   </td><td>436  </td><td>235  </td><td>255  </td><td>235  </td><td>20   </td><td>   0 </td><td> 8000</td><td> 8000</td></tr>\n",
       "\t<tr><td>15   </td><td>967  </td><td>265  </td><td>235  </td><td>235  </td><td> 0   </td><td>4500 </td><td>    0</td><td> 4500</td></tr>\n",
       "\t<tr><td>16   </td><td>822  </td><td>245  </td><td>265  </td><td>245  </td><td>20   </td><td>   0 </td><td> 8000</td><td> 8000</td></tr>\n",
       "\t<tr><td>17   </td><td>663  </td><td>245  </td><td>245  </td><td>245  </td><td> 0   </td><td>   0 </td><td>    0</td><td>    0</td></tr>\n",
       "\t<tr><td>18   </td><td>597  </td><td>235  </td><td>245  </td><td>235  </td><td>10   </td><td>   0 </td><td> 4000</td><td> 4000</td></tr>\n",
       "\t<tr><td>19   </td><td>452  </td><td>235  </td><td>235  </td><td>235  </td><td> 0   </td><td>   0 </td><td>    0</td><td>    0</td></tr>\n",
       "\t<tr><td>20   </td><td>892  </td><td>255  </td><td>235  </td><td>235  </td><td> 0   </td><td>3000 </td><td>    0</td><td> 3000</td></tr>\n",
       "</tbody>\n",
       "</table>\n"
      ],
      "text/latex": [
       "\\begin{tabular}{r|lllllllll}\n",
       " Semana & Aleatorio & Demanda & Estoque.Inicial & Venda & Estoque.Final & Custo.Falta & Custo.Sobras & Custo.Total\\\\\n",
       "\\hline\n",
       "\t  1    &  43   & 205   & 235   & 205   & 30    &    0  & 12000 & 12000\\\\\n",
       "\t  2    & 869   & 255   & 205   & 205   &  0    & 7500  &     0 &  7500\\\\\n",
       "\t  3    & 356   & 225   & 255   & 225   & 30    &    0  & 12000 & 12000\\\\\n",
       "\t  4    &  75   & 215   & 225   & 215   & 10    &    0  &  4000 &  4000\\\\\n",
       "\t  5    & 617   & 235   & 215   & 215   &  0    & 3000  &     0 &  3000\\\\\n",
       "\t  6    & 658   & 245   & 235   & 235   &  0    & 1500  &     0 &  1500\\\\\n",
       "\t  7    & 790   & 245   & 245   & 245   &  0    &    0  &     0 &     0\\\\\n",
       "\t  8    & 487   & 235   & 245   & 235   & 10    &    0  &  4000 &  4000\\\\\n",
       "\t  9    & 398   & 225   & 235   & 225   & 10    &    0  &  4000 &  4000\\\\\n",
       "\t 10    &  48   & 205   & 225   & 205   & 20    &    0  &  8000 &  8000\\\\\n",
       "\t 11    & 775   & 245   & 205   & 205   &  0    & 6000  &     0 &  6000\\\\\n",
       "\t 12    & 160   & 215   & 245   & 215   & 30    &    0  & 12000 & 12000\\\\\n",
       "\t 13    & 831   & 255   & 215   & 215   &  0    & 6000  &     0 &  6000\\\\\n",
       "\t 14    & 436   & 235   & 255   & 235   & 20    &    0  &  8000 &  8000\\\\\n",
       "\t 15    & 967   & 265   & 235   & 235   &  0    & 4500  &     0 &  4500\\\\\n",
       "\t 16    & 822   & 245   & 265   & 245   & 20    &    0  &  8000 &  8000\\\\\n",
       "\t 17    & 663   & 245   & 245   & 245   &  0    &    0  &     0 &     0\\\\\n",
       "\t 18    & 597   & 235   & 245   & 235   & 10    &    0  &  4000 &  4000\\\\\n",
       "\t 19    & 452   & 235   & 235   & 235   &  0    &    0  &     0 &     0\\\\\n",
       "\t 20    & 892   & 255   & 235   & 235   &  0    & 3000  &     0 &  3000\\\\\n",
       "\\end{tabular}\n"
      ],
      "text/markdown": [
       "\n",
       "| Semana | Aleatorio | Demanda | Estoque.Inicial | Venda | Estoque.Final | Custo.Falta | Custo.Sobras | Custo.Total |\n",
       "|---|---|---|---|---|---|---|---|---|\n",
       "|  1    |  43   | 205   | 235   | 205   | 30    |    0  | 12000 | 12000 |\n",
       "|  2    | 869   | 255   | 205   | 205   |  0    | 7500  |     0 |  7500 |\n",
       "|  3    | 356   | 225   | 255   | 225   | 30    |    0  | 12000 | 12000 |\n",
       "|  4    |  75   | 215   | 225   | 215   | 10    |    0  |  4000 |  4000 |\n",
       "|  5    | 617   | 235   | 215   | 215   |  0    | 3000  |     0 |  3000 |\n",
       "|  6    | 658   | 245   | 235   | 235   |  0    | 1500  |     0 |  1500 |\n",
       "|  7    | 790   | 245   | 245   | 245   |  0    |    0  |     0 |     0 |\n",
       "|  8    | 487   | 235   | 245   | 235   | 10    |    0  |  4000 |  4000 |\n",
       "|  9    | 398   | 225   | 235   | 225   | 10    |    0  |  4000 |  4000 |\n",
       "| 10    |  48   | 205   | 225   | 205   | 20    |    0  |  8000 |  8000 |\n",
       "| 11    | 775   | 245   | 205   | 205   |  0    | 6000  |     0 |  6000 |\n",
       "| 12    | 160   | 215   | 245   | 215   | 30    |    0  | 12000 | 12000 |\n",
       "| 13    | 831   | 255   | 215   | 215   |  0    | 6000  |     0 |  6000 |\n",
       "| 14    | 436   | 235   | 255   | 235   | 20    |    0  |  8000 |  8000 |\n",
       "| 15    | 967   | 265   | 235   | 235   |  0    | 4500  |     0 |  4500 |\n",
       "| 16    | 822   | 245   | 265   | 245   | 20    |    0  |  8000 |  8000 |\n",
       "| 17    | 663   | 245   | 245   | 245   |  0    |    0  |     0 |     0 |\n",
       "| 18    | 597   | 235   | 245   | 235   | 10    |    0  |  4000 |  4000 |\n",
       "| 19    | 452   | 235   | 235   | 235   |  0    |    0  |     0 |     0 |\n",
       "| 20    | 892   | 255   | 235   | 235   |  0    | 3000  |     0 |  3000 |\n",
       "\n"
      ],
      "text/plain": [
       "   Semana Aleatorio Demanda Estoque.Inicial Venda Estoque.Final Custo.Falta\n",
       "1   1      43       205     235             205   30               0       \n",
       "2   2     869       255     205             205    0            7500       \n",
       "3   3     356       225     255             225   30               0       \n",
       "4   4      75       215     225             215   10               0       \n",
       "5   5     617       235     215             215    0            3000       \n",
       "6   6     658       245     235             235    0            1500       \n",
       "7   7     790       245     245             245    0               0       \n",
       "8   8     487       235     245             235   10               0       \n",
       "9   9     398       225     235             225   10               0       \n",
       "10 10      48       205     225             205   20               0       \n",
       "11 11     775       245     205             205    0            6000       \n",
       "12 12     160       215     245             215   30               0       \n",
       "13 13     831       255     215             215    0            6000       \n",
       "14 14     436       235     255             235   20               0       \n",
       "15 15     967       265     235             235    0            4500       \n",
       "16 16     822       245     265             245   20               0       \n",
       "17 17     663       245     245             245    0               0       \n",
       "18 18     597       235     245             235   10               0       \n",
       "19 19     452       235     235             235    0               0       \n",
       "20 20     892       255     235             235    0            3000       \n",
       "   Custo.Sobras Custo.Total\n",
       "1  12000        12000      \n",
       "2      0         7500      \n",
       "3  12000        12000      \n",
       "4   4000         4000      \n",
       "5      0         3000      \n",
       "6      0         1500      \n",
       "7      0            0      \n",
       "8   4000         4000      \n",
       "9   4000         4000      \n",
       "10  8000         8000      \n",
       "11     0         6000      \n",
       "12 12000        12000      \n",
       "13     0         6000      \n",
       "14  8000         8000      \n",
       "15     0         4500      \n",
       "16  8000         8000      \n",
       "17     0            0      \n",
       "18  4000         4000      \n",
       "19     0            0      \n",
       "20     0         3000      "
      ]
     },
     "metadata": {},
     "output_type": "display_data"
    }
   ],
   "source": [
    "iteracoes = 20\n",
    "Semana = 0\n",
    "soma = 1\n",
    "Simulacao1 =  data.frame()\n",
    "\n",
    "for(x in 1:iteracoes){\n",
    "  \n",
    "  Semana = Semana + soma\n",
    "  ran = sample(0:999, 1)\n",
    "   \n",
    "  if (ran <= Tabela.Frequencia$LAS[1]){\n",
    "    Demanda = Tabela.Frequencia$Media[1]\n",
    "    \n",
    "  }else if (ran > Tabela.Frequencia$LAS[1] & ran <= Tabela.Frequencia$LAS[2]){\n",
    "    Demanda = Tabela.Frequencia$Media[2]\n",
    "    \n",
    "  }else if (ran > Tabela.Frequencia$LAS[2] & ran <= Tabela.Frequencia$LAS[3]){\n",
    "    Demanda = Tabela.Frequencia$Media[3]\n",
    "    \n",
    "  }else if (ran > Tabela.Frequencia$LAS[3] & ran <= Tabela.Frequencia$LAS[4]){\n",
    "    Demanda = Tabela.Frequencia$Media[4]\n",
    "    \n",
    "  }else if (ran > Tabela.Frequencia$LAS[4] & ran <= Tabela.Frequencia$LAS[5]){\n",
    "    Demanda = Tabela.Frequencia$Media[5]\n",
    "    \n",
    "  }else if (ran > Tabela.Frequencia$LAS[5] & ran <= Tabela.Frequencia$LAS[6]){\n",
    "    Demanda = Tabela.Frequencia$Media[6]\n",
    "    \n",
    "  }else if (ran > Tabela.Frequencia$LAS[6] & ran <= Tabela.Frequencia$LAS[7]){\n",
    "    Demanda = Tabela.Frequencia$Media[7]\n",
    "  }\n",
    "  \n",
    " # Colunas\n",
    "    \n",
    " NumeralSemana = c(Semana)\n",
    " NumeroAleatorio = c(ran)\n",
    " Demanda = c(Demanda)\n",
    " \n",
    " EstoqueInicial = c(NA)\n",
    " Venda = c(NA)\n",
    "\n",
    " EstoqueFinal = c(NA)\n",
    " CustoFalta = c(NA)\n",
    " CustoSobras = c(NA)\n",
    " CustoTotal = c(NA)\n",
    "    \n",
    " Vetor = c(NumeralSemana, NumeroAleatorio, Demanda, EstoqueInicial, Venda, \n",
    "           EstoqueFinal, CustoFalta, CustoSobras, CustoTotal)\n",
    " \n",
    " Simulacao1 = rbind(Simulacao1, Vetor)\n",
    " colnames(Simulacao1) <- c(\"Semana\",\"Aleatorio\",\"Demanda\", \"Estoque.Inicial\",\n",
    "                          \"Venda\",\"Estoque.Final\",\"Custo.Falta\",\"Custo.Sobras\",\"Custo.Total\") \n",
    "}\n",
    "\n",
    "# Coluna Estoque.Inicial\n",
    "\n",
    "Simulacao1$Estoque.Inicial[c(1)] = MediaPonderada\n",
    "Simulacao1$Estoque.Inicial[c(2:20)] <- Simulacao1$Demanda[c(1:19)]\n",
    "\n",
    "# Coluna Venda\n",
    "\n",
    "for (x in 1:iteracoes){\n",
    "    if (Simulacao1$Demanda[x] < Simulacao1$Estoque.Inicial[x])\n",
    "        Simulacao1$Venda[x] = Simulacao1$Demanda[x]\n",
    "        else{\n",
    "            Simulacao1$Venda[x] = Simulacao1$Estoque.Inicial[x]      \n",
    "        }\n",
    "}\n",
    "\n",
    "# Coluna Estoque.Final\n",
    "for (x in 1:iteracoes){\n",
    "    Simulacao1$Estoque.Final[x] = Simulacao1$Estoque.Inicial[x] - Simulacao1$Venda[x]\n",
    "}\n",
    "\n",
    "# Coluna Custo.Falta\n",
    "for (x in 1:iteracoes){\n",
    "    if (Simulacao1$Demanda[x] > Simulacao1$Estoque.Inicial[x]){\n",
    "       Simulacao1$Custo.Falta[x] = (Simulacao1$Demanda[x] - Simulacao1$Estoque.Inicial[x]) * 150.00   \n",
    "    }else{\n",
    "       Simulacao1$Custo.Falta[x] = 0    \n",
    "     }\n",
    "}\n",
    "\n",
    "# Coluna Custo.Sobras\n",
    "for (x in 1:iteracoes){\n",
    "    Simulacao1$Custo.Sobras[x] = Simulacao1$Estoque.Final[x] * 400.00\n",
    "}\n",
    "\n",
    "# Coluna Custo.Total\n",
    "for (x in 1:iteracoes){\n",
    "    Simulacao1$Custo.Total[x] = Simulacao1$Custo.Falta[x] + Simulacao1$Custo.Sobras[x]\n",
    "}\n",
    "\n",
    "# Simulação\n",
    "\n",
    "Simulacao1"
   ]
  },
  {
   "cell_type": "markdown",
   "metadata": {},
   "source": [
    "#### Custo Total da 1ª hipótese:"
   ]
  },
  {
   "cell_type": "code",
   "execution_count": 5,
   "metadata": {},
   "outputs": [
    {
     "data": {
      "text/html": [
       "107500"
      ],
      "text/latex": [
       "107500"
      ],
      "text/markdown": [
       "107500"
      ],
      "text/plain": [
       "[1] 107500"
      ]
     },
     "metadata": {},
     "output_type": "display_data"
    }
   ],
   "source": [
    "Custo1 = sum(Simulacao1$Custo.Total)\n",
    "Custo1"
   ]
  },
  {
   "cell_type": "markdown",
   "metadata": {},
   "source": [
    "### Simulação de Monte Carlo \n",
    "\n",
    "#### 2ª Hipótese: Comprar 235 toda semana.\n",
    "2 - Comprar uma quantidade igual a média histórica anotada no período anterior de 40 semanas (média = valor inteiro mais\n",
    "próximo da média verificada).\n"
   ]
  },
  {
   "cell_type": "code",
   "execution_count": 6,
   "metadata": {},
   "outputs": [
    {
     "data": {
      "text/html": [
       "<table>\n",
       "<thead><tr><th scope=col>Semana</th><th scope=col>Aleatorio</th><th scope=col>Demanda</th><th scope=col>Estoque.Inicial</th><th scope=col>Venda</th><th scope=col>Estoque.Final</th><th scope=col>Custo.Falta</th><th scope=col>Custo.Sobras</th><th scope=col>Custo.Total</th></tr></thead>\n",
       "<tbody>\n",
       "\t<tr><td> 1  </td><td>490 </td><td>235 </td><td>235 </td><td>235 </td><td> 0  </td><td>   0</td><td>   0</td><td>   0</td></tr>\n",
       "\t<tr><td> 2  </td><td>400 </td><td>235 </td><td>235 </td><td>235 </td><td> 0  </td><td>   0</td><td>   0</td><td>   0</td></tr>\n",
       "\t<tr><td> 3  </td><td> 64 </td><td>215 </td><td>235 </td><td>215 </td><td>20  </td><td>   0</td><td>8000</td><td>8000</td></tr>\n",
       "\t<tr><td> 4  </td><td>134 </td><td>215 </td><td>235 </td><td>215 </td><td>20  </td><td>   0</td><td>8000</td><td>8000</td></tr>\n",
       "\t<tr><td> 5  </td><td>419 </td><td>235 </td><td>235 </td><td>235 </td><td> 0  </td><td>   0</td><td>   0</td><td>   0</td></tr>\n",
       "\t<tr><td> 6  </td><td>981 </td><td>265 </td><td>235 </td><td>235 </td><td> 0  </td><td>4500</td><td>   0</td><td>4500</td></tr>\n",
       "\t<tr><td> 7  </td><td>875 </td><td>255 </td><td>235 </td><td>235 </td><td> 0  </td><td>3000</td><td>   0</td><td>3000</td></tr>\n",
       "\t<tr><td> 8  </td><td>300 </td><td>225 </td><td>235 </td><td>225 </td><td>10  </td><td>   0</td><td>4000</td><td>4000</td></tr>\n",
       "\t<tr><td> 9  </td><td>193 </td><td>225 </td><td>235 </td><td>225 </td><td>10  </td><td>   0</td><td>4000</td><td>4000</td></tr>\n",
       "\t<tr><td>10  </td><td>320 </td><td>225 </td><td>235 </td><td>225 </td><td>10  </td><td>   0</td><td>4000</td><td>4000</td></tr>\n",
       "\t<tr><td>11  </td><td>433 </td><td>235 </td><td>235 </td><td>235 </td><td> 0  </td><td>   0</td><td>   0</td><td>   0</td></tr>\n",
       "\t<tr><td>12  </td><td>870 </td><td>255 </td><td>235 </td><td>235 </td><td> 0  </td><td>3000</td><td>   0</td><td>3000</td></tr>\n",
       "\t<tr><td>13  </td><td>328 </td><td>225 </td><td>235 </td><td>225 </td><td>10  </td><td>   0</td><td>4000</td><td>4000</td></tr>\n",
       "\t<tr><td>14  </td><td>883 </td><td>255 </td><td>235 </td><td>235 </td><td> 0  </td><td>3000</td><td>   0</td><td>3000</td></tr>\n",
       "\t<tr><td>15  </td><td>636 </td><td>235 </td><td>235 </td><td>235 </td><td> 0  </td><td>   0</td><td>   0</td><td>   0</td></tr>\n",
       "\t<tr><td>16  </td><td>934 </td><td>265 </td><td>235 </td><td>235 </td><td> 0  </td><td>4500</td><td>   0</td><td>4500</td></tr>\n",
       "\t<tr><td>17  </td><td>809 </td><td>245 </td><td>235 </td><td>235 </td><td> 0  </td><td>1500</td><td>   0</td><td>1500</td></tr>\n",
       "\t<tr><td>18  </td><td>918 </td><td>255 </td><td>235 </td><td>235 </td><td> 0  </td><td>3000</td><td>   0</td><td>3000</td></tr>\n",
       "\t<tr><td>19  </td><td>169 </td><td>215 </td><td>235 </td><td>215 </td><td>20  </td><td>   0</td><td>8000</td><td>8000</td></tr>\n",
       "\t<tr><td>20  </td><td>102 </td><td>215 </td><td>235 </td><td>215 </td><td>20  </td><td>   0</td><td>8000</td><td>8000</td></tr>\n",
       "</tbody>\n",
       "</table>\n"
      ],
      "text/latex": [
       "\\begin{tabular}{r|lllllllll}\n",
       " Semana & Aleatorio & Demanda & Estoque.Inicial & Venda & Estoque.Final & Custo.Falta & Custo.Sobras & Custo.Total\\\\\n",
       "\\hline\n",
       "\t  1   & 490  & 235  & 235  & 235  &  0   &    0 &    0 &    0\\\\\n",
       "\t  2   & 400  & 235  & 235  & 235  &  0   &    0 &    0 &    0\\\\\n",
       "\t  3   &  64  & 215  & 235  & 215  & 20   &    0 & 8000 & 8000\\\\\n",
       "\t  4   & 134  & 215  & 235  & 215  & 20   &    0 & 8000 & 8000\\\\\n",
       "\t  5   & 419  & 235  & 235  & 235  &  0   &    0 &    0 &    0\\\\\n",
       "\t  6   & 981  & 265  & 235  & 235  &  0   & 4500 &    0 & 4500\\\\\n",
       "\t  7   & 875  & 255  & 235  & 235  &  0   & 3000 &    0 & 3000\\\\\n",
       "\t  8   & 300  & 225  & 235  & 225  & 10   &    0 & 4000 & 4000\\\\\n",
       "\t  9   & 193  & 225  & 235  & 225  & 10   &    0 & 4000 & 4000\\\\\n",
       "\t 10   & 320  & 225  & 235  & 225  & 10   &    0 & 4000 & 4000\\\\\n",
       "\t 11   & 433  & 235  & 235  & 235  &  0   &    0 &    0 &    0\\\\\n",
       "\t 12   & 870  & 255  & 235  & 235  &  0   & 3000 &    0 & 3000\\\\\n",
       "\t 13   & 328  & 225  & 235  & 225  & 10   &    0 & 4000 & 4000\\\\\n",
       "\t 14   & 883  & 255  & 235  & 235  &  0   & 3000 &    0 & 3000\\\\\n",
       "\t 15   & 636  & 235  & 235  & 235  &  0   &    0 &    0 &    0\\\\\n",
       "\t 16   & 934  & 265  & 235  & 235  &  0   & 4500 &    0 & 4500\\\\\n",
       "\t 17   & 809  & 245  & 235  & 235  &  0   & 1500 &    0 & 1500\\\\\n",
       "\t 18   & 918  & 255  & 235  & 235  &  0   & 3000 &    0 & 3000\\\\\n",
       "\t 19   & 169  & 215  & 235  & 215  & 20   &    0 & 8000 & 8000\\\\\n",
       "\t 20   & 102  & 215  & 235  & 215  & 20   &    0 & 8000 & 8000\\\\\n",
       "\\end{tabular}\n"
      ],
      "text/markdown": [
       "\n",
       "| Semana | Aleatorio | Demanda | Estoque.Inicial | Venda | Estoque.Final | Custo.Falta | Custo.Sobras | Custo.Total |\n",
       "|---|---|---|---|---|---|---|---|---|\n",
       "|  1   | 490  | 235  | 235  | 235  |  0   |    0 |    0 |    0 |\n",
       "|  2   | 400  | 235  | 235  | 235  |  0   |    0 |    0 |    0 |\n",
       "|  3   |  64  | 215  | 235  | 215  | 20   |    0 | 8000 | 8000 |\n",
       "|  4   | 134  | 215  | 235  | 215  | 20   |    0 | 8000 | 8000 |\n",
       "|  5   | 419  | 235  | 235  | 235  |  0   |    0 |    0 |    0 |\n",
       "|  6   | 981  | 265  | 235  | 235  |  0   | 4500 |    0 | 4500 |\n",
       "|  7   | 875  | 255  | 235  | 235  |  0   | 3000 |    0 | 3000 |\n",
       "|  8   | 300  | 225  | 235  | 225  | 10   |    0 | 4000 | 4000 |\n",
       "|  9   | 193  | 225  | 235  | 225  | 10   |    0 | 4000 | 4000 |\n",
       "| 10   | 320  | 225  | 235  | 225  | 10   |    0 | 4000 | 4000 |\n",
       "| 11   | 433  | 235  | 235  | 235  |  0   |    0 |    0 |    0 |\n",
       "| 12   | 870  | 255  | 235  | 235  |  0   | 3000 |    0 | 3000 |\n",
       "| 13   | 328  | 225  | 235  | 225  | 10   |    0 | 4000 | 4000 |\n",
       "| 14   | 883  | 255  | 235  | 235  |  0   | 3000 |    0 | 3000 |\n",
       "| 15   | 636  | 235  | 235  | 235  |  0   |    0 |    0 |    0 |\n",
       "| 16   | 934  | 265  | 235  | 235  |  0   | 4500 |    0 | 4500 |\n",
       "| 17   | 809  | 245  | 235  | 235  |  0   | 1500 |    0 | 1500 |\n",
       "| 18   | 918  | 255  | 235  | 235  |  0   | 3000 |    0 | 3000 |\n",
       "| 19   | 169  | 215  | 235  | 215  | 20   |    0 | 8000 | 8000 |\n",
       "| 20   | 102  | 215  | 235  | 215  | 20   |    0 | 8000 | 8000 |\n",
       "\n"
      ],
      "text/plain": [
       "   Semana Aleatorio Demanda Estoque.Inicial Venda Estoque.Final Custo.Falta\n",
       "1   1     490       235     235             235    0               0       \n",
       "2   2     400       235     235             235    0               0       \n",
       "3   3      64       215     235             215   20               0       \n",
       "4   4     134       215     235             215   20               0       \n",
       "5   5     419       235     235             235    0               0       \n",
       "6   6     981       265     235             235    0            4500       \n",
       "7   7     875       255     235             235    0            3000       \n",
       "8   8     300       225     235             225   10               0       \n",
       "9   9     193       225     235             225   10               0       \n",
       "10 10     320       225     235             225   10               0       \n",
       "11 11     433       235     235             235    0               0       \n",
       "12 12     870       255     235             235    0            3000       \n",
       "13 13     328       225     235             225   10               0       \n",
       "14 14     883       255     235             235    0            3000       \n",
       "15 15     636       235     235             235    0               0       \n",
       "16 16     934       265     235             235    0            4500       \n",
       "17 17     809       245     235             235    0            1500       \n",
       "18 18     918       255     235             235    0            3000       \n",
       "19 19     169       215     235             215   20               0       \n",
       "20 20     102       215     235             215   20               0       \n",
       "   Custo.Sobras Custo.Total\n",
       "1     0            0       \n",
       "2     0            0       \n",
       "3  8000         8000       \n",
       "4  8000         8000       \n",
       "5     0            0       \n",
       "6     0         4500       \n",
       "7     0         3000       \n",
       "8  4000         4000       \n",
       "9  4000         4000       \n",
       "10 4000         4000       \n",
       "11    0            0       \n",
       "12    0         3000       \n",
       "13 4000         4000       \n",
       "14    0         3000       \n",
       "15    0            0       \n",
       "16    0         4500       \n",
       "17    0         1500       \n",
       "18    0         3000       \n",
       "19 8000         8000       \n",
       "20 8000         8000       "
      ]
     },
     "metadata": {},
     "output_type": "display_data"
    }
   ],
   "source": [
    "iteracoes = 20\n",
    "Semana = 0\n",
    "soma = 1\n",
    "Simulacao2 =  data.frame()\n",
    "\n",
    "for(x in 1:iteracoes){\n",
    "  \n",
    "  Semana = Semana + soma\n",
    "  ran = ran = sample(0:999, 1)\n",
    "  \n",
    "  if (ran <= Tabela.Frequencia$LAS[1]){\n",
    "    Demanda = Tabela.Frequencia$Media[1]\n",
    "    \n",
    "  }else if (ran > Tabela.Frequencia$LAS[1] & ran <= Tabela.Frequencia$LAS[2]){\n",
    "    Demanda = Tabela.Frequencia$Media[2]\n",
    "    \n",
    "  }else if (ran > Tabela.Frequencia$LAS[2] & ran <= Tabela.Frequencia$LAS[3]){\n",
    "    Demanda = Tabela.Frequencia$Media[3]\n",
    "    \n",
    "  }else if (ran > Tabela.Frequencia$LAS[3] & ran <= Tabela.Frequencia$LAS[4]){\n",
    "    Demanda = Tabela.Frequencia$Media[4]\n",
    "    \n",
    "  }else if (ran > Tabela.Frequencia$LAS[4] & ran <= Tabela.Frequencia$LAS[5]){\n",
    "    Demanda = Tabela.Frequencia$Media[5]\n",
    "    \n",
    "  }else if (ran > Tabela.Frequencia$LAS[5] & ran <= Tabela.Frequencia$LAS[6]){\n",
    "    Demanda = Tabela.Frequencia$Media[6]\n",
    "    \n",
    "  }else if (ran > Tabela.Frequencia$LAS[6] & ran <= Tabela.Frequencia$LAS[7]){\n",
    "    Demanda = Tabela.Frequencia$Media[7]\n",
    "  }\n",
    "  \n",
    " # Colunas  \n",
    " NumeralSemana = c(Semana)\n",
    " NumeroAleatorio = c(ran)\n",
    " Demanda = c(Demanda)\n",
    " \n",
    " EstoqueInicial = c(MediaPonderada)\n",
    " Venda = c(NA)\n",
    "\n",
    " EstoqueFinal = c(NA)\n",
    " CustoFalta = c(NA)\n",
    " CustoSobras = c(NA)\n",
    " CustoTotal = c(NA)\n",
    "    \n",
    " Vetor = c(NumeralSemana, NumeroAleatorio, Demanda, EstoqueInicial, Venda, \n",
    "           EstoqueFinal, CustoFalta, CustoSobras, CustoTotal)\n",
    " \n",
    " Simulacao2 = rbind(Simulacao2, Vetor)\n",
    " colnames(Simulacao2) <- c(\"Semana\",\"Aleatorio\",\"Demanda\", \"Estoque.Inicial\",\n",
    "                          \"Venda\",\"Estoque.Final\",\"Custo.Falta\",\"Custo.Sobras\",\"Custo.Total\") \n",
    "}\n",
    "\n",
    "# Coluna Venda\n",
    "\n",
    "for (x in 1:iteracoes){\n",
    "    if (Simulacao2$Demanda[x] < Simulacao2$Estoque.Inicial[x])\n",
    "        Simulacao2$Venda[x] = Simulacao2$Demanda[x]\n",
    "        else{Simulacao2$Venda[x] = Simulacao2$Estoque.Inicial[x]      \n",
    "        }\n",
    "}\n",
    "\n",
    "# Coluna Estoque.Final\n",
    "for (x in 1:iteracoes){\n",
    "    Simulacao2$Estoque.Final[x] = Simulacao2$Estoque.Inicial[x] - Simulacao2$Venda[x]\n",
    "}\n",
    "\n",
    "# Coluna Custo.Falta\n",
    "for (x in 1:iteracoes){\n",
    "    if (Simulacao2$Demanda[x] > Simulacao2$Estoque.Inicial[x]){\n",
    "       Simulacao2$Custo.Falta[x] = (Simulacao2$Demanda[x] - Simulacao2$Estoque.Inicial[x]) * 150.00   \n",
    "    }else{\n",
    "       Simulacao2$Custo.Falta[x] = 0    \n",
    "     }\n",
    "}\n",
    "\n",
    "# Coluna Custo.Sobras\n",
    "for (x in 1:iteracoes){\n",
    "    Simulacao2$Custo.Sobras[x] = Simulacao2$Estoque.Final[x] * 400.00\n",
    "}\n",
    "\n",
    "# Coluna Custo.Total\n",
    "for (x in 1:iteracoes){\n",
    "    Simulacao2$Custo.Total[x] = Simulacao2$Custo.Falta[x] + Simulacao2$Custo.Sobras[x]\n",
    "}\n",
    "\n",
    "# Simulação\n",
    "\n",
    "Simulacao2"
   ]
  },
  {
   "cell_type": "markdown",
   "metadata": {},
   "source": [
    "#### Custo Total da 2ª hipótese:"
   ]
  },
  {
   "cell_type": "code",
   "execution_count": 7,
   "metadata": {},
   "outputs": [
    {
     "data": {
      "text/html": [
       "70500"
      ],
      "text/latex": [
       "70500"
      ],
      "text/markdown": [
       "70500"
      ],
      "text/plain": [
       "[1] 70500"
      ]
     },
     "metadata": {},
     "output_type": "display_data"
    }
   ],
   "source": [
    "Custo2 = sum(Simulacao2$Custo.Total)\n",
    "Custo2"
   ]
  },
  {
   "cell_type": "markdown",
   "metadata": {},
   "source": [
    "O quadro mais favorável é o segundo. Observando a distribuição dos custos parece razoável pensar na hipótese de uma compra menor que a média histórica:\n",
    "\n",
    "Por exemplo: compra de 230 dúzias por semana."
   ]
  },
  {
   "cell_type": "markdown",
   "metadata": {},
   "source": [
    "### Simulação de Monte Carlo\n",
    "#### 3ª Hipótese:\n",
    "3 - O exame dos resultados sugere o teste de outra hipótese?"
   ]
  },
  {
   "cell_type": "code",
   "execution_count": 8,
   "metadata": {},
   "outputs": [
    {
     "data": {
      "text/html": [
       "<table>\n",
       "<thead><tr><th scope=col>Semana</th><th scope=col>Aleatorio</th><th scope=col>Demanda</th><th scope=col>Estoque.Inicial</th><th scope=col>Venda</th><th scope=col>Estoque.Final</th><th scope=col>Custo.Falta</th><th scope=col>Custo.Sobras</th><th scope=col>Custo.Total</th></tr></thead>\n",
       "<tbody>\n",
       "\t<tr><td> 1   </td><td>447  </td><td>235  </td><td>230  </td><td>230  </td><td> 0   </td><td> 750 </td><td>    0</td><td>  750</td></tr>\n",
       "\t<tr><td> 2   </td><td>244  </td><td>225  </td><td>230  </td><td>225  </td><td> 5   </td><td>   0 </td><td> 2000</td><td> 2000</td></tr>\n",
       "\t<tr><td> 3   </td><td>644  </td><td>235  </td><td>230  </td><td>230  </td><td> 0   </td><td> 750 </td><td>    0</td><td>  750</td></tr>\n",
       "\t<tr><td> 4   </td><td>849  </td><td>255  </td><td>230  </td><td>230  </td><td> 0   </td><td>3750 </td><td>    0</td><td> 3750</td></tr>\n",
       "\t<tr><td> 5   </td><td>120  </td><td>215  </td><td>230  </td><td>215  </td><td>15   </td><td>   0 </td><td> 6000</td><td> 6000</td></tr>\n",
       "\t<tr><td> 6   </td><td>317  </td><td>225  </td><td>230  </td><td>225  </td><td> 5   </td><td>   0 </td><td> 2000</td><td> 2000</td></tr>\n",
       "\t<tr><td> 7   </td><td>449  </td><td>235  </td><td>230  </td><td>230  </td><td> 0   </td><td> 750 </td><td>    0</td><td>  750</td></tr>\n",
       "\t<tr><td> 8   </td><td>648  </td><td>235  </td><td>230  </td><td>230  </td><td> 0   </td><td> 750 </td><td>    0</td><td>  750</td></tr>\n",
       "\t<tr><td> 9   </td><td>703  </td><td>245  </td><td>230  </td><td>230  </td><td> 0   </td><td>2250 </td><td>    0</td><td> 2250</td></tr>\n",
       "\t<tr><td>10   </td><td>828  </td><td>255  </td><td>230  </td><td>230  </td><td> 0   </td><td>3750 </td><td>    0</td><td> 3750</td></tr>\n",
       "\t<tr><td>11   </td><td>420  </td><td>235  </td><td>230  </td><td>230  </td><td> 0   </td><td> 750 </td><td>    0</td><td>  750</td></tr>\n",
       "\t<tr><td>12   </td><td>829  </td><td>255  </td><td>230  </td><td>230  </td><td> 0   </td><td>3750 </td><td>    0</td><td> 3750</td></tr>\n",
       "\t<tr><td>13   </td><td>672  </td><td>245  </td><td>230  </td><td>230  </td><td> 0   </td><td>2250 </td><td>    0</td><td> 2250</td></tr>\n",
       "\t<tr><td>14   </td><td>216  </td><td>225  </td><td>230  </td><td>225  </td><td> 5   </td><td>   0 </td><td> 2000</td><td> 2000</td></tr>\n",
       "\t<tr><td>15   </td><td>676  </td><td>245  </td><td>230  </td><td>230  </td><td> 0   </td><td>2250 </td><td>    0</td><td> 2250</td></tr>\n",
       "\t<tr><td>16   </td><td>714  </td><td>245  </td><td>230  </td><td>230  </td><td> 0   </td><td>2250 </td><td>    0</td><td> 2250</td></tr>\n",
       "\t<tr><td>17   </td><td>  9  </td><td>205  </td><td>230  </td><td>205  </td><td>25   </td><td>   0 </td><td>10000</td><td>10000</td></tr>\n",
       "\t<tr><td>18   </td><td>312  </td><td>225  </td><td>230  </td><td>225  </td><td> 5   </td><td>   0 </td><td> 2000</td><td> 2000</td></tr>\n",
       "\t<tr><td>19   </td><td>475  </td><td>235  </td><td>230  </td><td>230  </td><td> 0   </td><td> 750 </td><td>    0</td><td>  750</td></tr>\n",
       "\t<tr><td>20   </td><td>430  </td><td>235  </td><td>230  </td><td>230  </td><td> 0   </td><td> 750 </td><td>    0</td><td>  750</td></tr>\n",
       "</tbody>\n",
       "</table>\n"
      ],
      "text/latex": [
       "\\begin{tabular}{r|lllllllll}\n",
       " Semana & Aleatorio & Demanda & Estoque.Inicial & Venda & Estoque.Final & Custo.Falta & Custo.Sobras & Custo.Total\\\\\n",
       "\\hline\n",
       "\t  1    & 447   & 235   & 230   & 230   &  0    &  750  &     0 &   750\\\\\n",
       "\t  2    & 244   & 225   & 230   & 225   &  5    &    0  &  2000 &  2000\\\\\n",
       "\t  3    & 644   & 235   & 230   & 230   &  0    &  750  &     0 &   750\\\\\n",
       "\t  4    & 849   & 255   & 230   & 230   &  0    & 3750  &     0 &  3750\\\\\n",
       "\t  5    & 120   & 215   & 230   & 215   & 15    &    0  &  6000 &  6000\\\\\n",
       "\t  6    & 317   & 225   & 230   & 225   &  5    &    0  &  2000 &  2000\\\\\n",
       "\t  7    & 449   & 235   & 230   & 230   &  0    &  750  &     0 &   750\\\\\n",
       "\t  8    & 648   & 235   & 230   & 230   &  0    &  750  &     0 &   750\\\\\n",
       "\t  9    & 703   & 245   & 230   & 230   &  0    & 2250  &     0 &  2250\\\\\n",
       "\t 10    & 828   & 255   & 230   & 230   &  0    & 3750  &     0 &  3750\\\\\n",
       "\t 11    & 420   & 235   & 230   & 230   &  0    &  750  &     0 &   750\\\\\n",
       "\t 12    & 829   & 255   & 230   & 230   &  0    & 3750  &     0 &  3750\\\\\n",
       "\t 13    & 672   & 245   & 230   & 230   &  0    & 2250  &     0 &  2250\\\\\n",
       "\t 14    & 216   & 225   & 230   & 225   &  5    &    0  &  2000 &  2000\\\\\n",
       "\t 15    & 676   & 245   & 230   & 230   &  0    & 2250  &     0 &  2250\\\\\n",
       "\t 16    & 714   & 245   & 230   & 230   &  0    & 2250  &     0 &  2250\\\\\n",
       "\t 17    &   9   & 205   & 230   & 205   & 25    &    0  & 10000 & 10000\\\\\n",
       "\t 18    & 312   & 225   & 230   & 225   &  5    &    0  &  2000 &  2000\\\\\n",
       "\t 19    & 475   & 235   & 230   & 230   &  0    &  750  &     0 &   750\\\\\n",
       "\t 20    & 430   & 235   & 230   & 230   &  0    &  750  &     0 &   750\\\\\n",
       "\\end{tabular}\n"
      ],
      "text/markdown": [
       "\n",
       "| Semana | Aleatorio | Demanda | Estoque.Inicial | Venda | Estoque.Final | Custo.Falta | Custo.Sobras | Custo.Total |\n",
       "|---|---|---|---|---|---|---|---|---|\n",
       "|  1    | 447   | 235   | 230   | 230   |  0    |  750  |     0 |   750 |\n",
       "|  2    | 244   | 225   | 230   | 225   |  5    |    0  |  2000 |  2000 |\n",
       "|  3    | 644   | 235   | 230   | 230   |  0    |  750  |     0 |   750 |\n",
       "|  4    | 849   | 255   | 230   | 230   |  0    | 3750  |     0 |  3750 |\n",
       "|  5    | 120   | 215   | 230   | 215   | 15    |    0  |  6000 |  6000 |\n",
       "|  6    | 317   | 225   | 230   | 225   |  5    |    0  |  2000 |  2000 |\n",
       "|  7    | 449   | 235   | 230   | 230   |  0    |  750  |     0 |   750 |\n",
       "|  8    | 648   | 235   | 230   | 230   |  0    |  750  |     0 |   750 |\n",
       "|  9    | 703   | 245   | 230   | 230   |  0    | 2250  |     0 |  2250 |\n",
       "| 10    | 828   | 255   | 230   | 230   |  0    | 3750  |     0 |  3750 |\n",
       "| 11    | 420   | 235   | 230   | 230   |  0    |  750  |     0 |   750 |\n",
       "| 12    | 829   | 255   | 230   | 230   |  0    | 3750  |     0 |  3750 |\n",
       "| 13    | 672   | 245   | 230   | 230   |  0    | 2250  |     0 |  2250 |\n",
       "| 14    | 216   | 225   | 230   | 225   |  5    |    0  |  2000 |  2000 |\n",
       "| 15    | 676   | 245   | 230   | 230   |  0    | 2250  |     0 |  2250 |\n",
       "| 16    | 714   | 245   | 230   | 230   |  0    | 2250  |     0 |  2250 |\n",
       "| 17    |   9   | 205   | 230   | 205   | 25    |    0  | 10000 | 10000 |\n",
       "| 18    | 312   | 225   | 230   | 225   |  5    |    0  |  2000 |  2000 |\n",
       "| 19    | 475   | 235   | 230   | 230   |  0    |  750  |     0 |   750 |\n",
       "| 20    | 430   | 235   | 230   | 230   |  0    |  750  |     0 |   750 |\n",
       "\n"
      ],
      "text/plain": [
       "   Semana Aleatorio Demanda Estoque.Inicial Venda Estoque.Final Custo.Falta\n",
       "1   1     447       235     230             230    0             750       \n",
       "2   2     244       225     230             225    5               0       \n",
       "3   3     644       235     230             230    0             750       \n",
       "4   4     849       255     230             230    0            3750       \n",
       "5   5     120       215     230             215   15               0       \n",
       "6   6     317       225     230             225    5               0       \n",
       "7   7     449       235     230             230    0             750       \n",
       "8   8     648       235     230             230    0             750       \n",
       "9   9     703       245     230             230    0            2250       \n",
       "10 10     828       255     230             230    0            3750       \n",
       "11 11     420       235     230             230    0             750       \n",
       "12 12     829       255     230             230    0            3750       \n",
       "13 13     672       245     230             230    0            2250       \n",
       "14 14     216       225     230             225    5               0       \n",
       "15 15     676       245     230             230    0            2250       \n",
       "16 16     714       245     230             230    0            2250       \n",
       "17 17       9       205     230             205   25               0       \n",
       "18 18     312       225     230             225    5               0       \n",
       "19 19     475       235     230             230    0             750       \n",
       "20 20     430       235     230             230    0             750       \n",
       "   Custo.Sobras Custo.Total\n",
       "1      0          750      \n",
       "2   2000         2000      \n",
       "3      0          750      \n",
       "4      0         3750      \n",
       "5   6000         6000      \n",
       "6   2000         2000      \n",
       "7      0          750      \n",
       "8      0          750      \n",
       "9      0         2250      \n",
       "10     0         3750      \n",
       "11     0          750      \n",
       "12     0         3750      \n",
       "13     0         2250      \n",
       "14  2000         2000      \n",
       "15     0         2250      \n",
       "16     0         2250      \n",
       "17 10000        10000      \n",
       "18  2000         2000      \n",
       "19     0          750      \n",
       "20     0          750      "
      ]
     },
     "metadata": {},
     "output_type": "display_data"
    }
   ],
   "source": [
    "iteracoes = 20\n",
    "Semana = 0\n",
    "soma = 1\n",
    "Simulacao3 =  data.frame()\n",
    "\n",
    "for(x in 1:iteracoes){\n",
    "  \n",
    "  Semana = Semana + soma\n",
    "  ran = ran = sample(0:999, 1)\n",
    "  \n",
    "  if (ran <= Tabela.Frequencia$LAS[1]){\n",
    "    Demanda = Tabela.Frequencia$Media[1]\n",
    "    \n",
    "  }else if (ran > Tabela.Frequencia$LAS[1] & ran <= Tabela.Frequencia$LAS[2]){\n",
    "    Demanda = Tabela.Frequencia$Media[2]\n",
    "    \n",
    "  }else if (ran > Tabela.Frequencia$LAS[2] & ran <= Tabela.Frequencia$LAS[3]){\n",
    "    Demanda = Tabela.Frequencia$Media[3]\n",
    "    \n",
    "  }else if (ran > Tabela.Frequencia$LAS[3] & ran <= Tabela.Frequencia$LAS[4]){\n",
    "    Demanda = Tabela.Frequencia$Media[4]\n",
    "    \n",
    "  }else if (ran > Tabela.Frequencia$LAS[4] & ran <= Tabela.Frequencia$LAS[5]){\n",
    "    Demanda = Tabela.Frequencia$Media[5]\n",
    "    \n",
    "  }else if (ran > Tabela.Frequencia$LAS[5] & ran <= Tabela.Frequencia$LAS[6]){\n",
    "    Demanda = Tabela.Frequencia$Media[6]\n",
    "    \n",
    "  }else if (ran > Tabela.Frequencia$LAS[6] & ran <= Tabela.Frequencia$LAS[7]){\n",
    "    Demanda = Tabela.Frequencia$Media[7]\n",
    "  }\n",
    "  \n",
    " # Colunas  \n",
    " NumeralSemana = c(Semana)\n",
    " NumeroAleatorio = c(ran)\n",
    " Demanda = c(Demanda)\n",
    " \n",
    " EstoqueInicial = c(230)\n",
    " Venda = c(NA)\n",
    "\n",
    " EstoqueFinal = c(NA)\n",
    " CustoFalta = c(NA)\n",
    " CustoSobras = c(NA)\n",
    " CustoTotal = c(NA)\n",
    "    \n",
    " Vetor = c(NumeralSemana, NumeroAleatorio, Demanda, EstoqueInicial, Venda, \n",
    "           EstoqueFinal, CustoFalta, CustoSobras, CustoTotal)\n",
    " \n",
    " Simulacao3 = rbind(Simulacao3, Vetor)\n",
    " colnames(Simulacao3) <- c(\"Semana\",\"Aleatorio\",\"Demanda\", \"Estoque.Inicial\",\n",
    "                          \"Venda\",\"Estoque.Final\",\"Custo.Falta\",\"Custo.Sobras\",\"Custo.Total\") \n",
    "}\n",
    "\n",
    "# Coluna Venda\n",
    "\n",
    "for (x in 1:iteracoes){\n",
    "    if (Simulacao3$Demanda[x] < Simulacao3$Estoque.Inicial[x])\n",
    "        Simulacao3$Venda[x] = Simulacao3$Demanda[x]\n",
    "        else{Simulacao3$Venda[x] = Simulacao3$Estoque.Inicial[x]      \n",
    "        }\n",
    "}\n",
    "\n",
    "# Coluna Estoque.Final\n",
    "for (x in 1:iteracoes){\n",
    "    Simulacao3$Estoque.Final[x] = Simulacao3$Estoque.Inicial[x] - Simulacao3$Venda[x]\n",
    "}\n",
    "\n",
    "# Coluna Custo.Falta\n",
    "for (x in 1:iteracoes){\n",
    "    if (Simulacao3$Demanda[x] > Simulacao3$Estoque.Inicial[x]){\n",
    "       Simulacao3$Custo.Falta[x] = (Simulacao3$Demanda[x] - Simulacao3$Estoque.Inicial[x]) * 150.00   \n",
    "    }else{\n",
    "       Simulacao3$Custo.Falta[x] = 0    \n",
    "     }\n",
    "}\n",
    "\n",
    "# Coluna Custo.Sobras\n",
    "for (x in 1:iteracoes){\n",
    "    Simulacao3$Custo.Sobras[x] = Simulacao3$Estoque.Final[x] * 400.00\n",
    "}\n",
    "\n",
    "# Coluna Custo.Total\n",
    "for (x in 1:iteracoes){\n",
    "    Simulacao3$Custo.Total[x] = Simulacao3$Custo.Falta[x] + Simulacao3$Custo.Sobras[x]\n",
    "}\n",
    "\n",
    "# Simulação\n",
    "\n",
    "Simulacao3"
   ]
  },
  {
   "cell_type": "markdown",
   "metadata": {},
   "source": [
    "#### Custo Total da 3ª hipótese:"
   ]
  },
  {
   "cell_type": "code",
   "execution_count": 9,
   "metadata": {},
   "outputs": [
    {
     "data": {
      "text/html": [
       "49500"
      ],
      "text/latex": [
       "49500"
      ],
      "text/markdown": [
       "49500"
      ],
      "text/plain": [
       "[1] 49500"
      ]
     },
     "metadata": {},
     "output_type": "display_data"
    }
   ],
   "source": [
    "Custo3 = sum(Simulacao3$Custo.Total)\n",
    "Custo3"
   ]
  },
  {
   "cell_type": "markdown",
   "metadata": {},
   "source": [
    "#### Conclusão: Das três hipóteses testadas, a terceira parece a mais favorável."
   ]
  },
  {
   "cell_type": "markdown",
   "metadata": {},
   "source": [
    "### Funções utilizadas\n",
    "\n",
    "###### data.frame();   weighted.mean();   sample();  rbind();  colnames(); sum()."
   ]
  }
 ],
 "metadata": {
  "kernelspec": {
   "display_name": "R",
   "language": "R",
   "name": "ir"
  },
  "language_info": {
   "codemirror_mode": "r",
   "file_extension": ".r",
   "mimetype": "text/x-r-source",
   "name": "R",
   "pygments_lexer": "r",
   "version": "3.6.1"
  }
 },
 "nbformat": 4,
 "nbformat_minor": 4
}
