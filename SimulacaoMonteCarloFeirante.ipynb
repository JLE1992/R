{
 "cells": [
  {
   "cell_type": "markdown",
   "metadata": {},
   "source": [
    "### Simulação de Monte Carlo em R feita com base no exemplo do livro:"
   ]
  },
  {
   "cell_type": "markdown",
   "metadata": {},
   "source": [
    "## Pesquisa Operacional para os Cursos de Administração e Engenharia, 4ª Edição, 2010. Autores: Ermes Medeiros, Elio Medeiros, Valter Gonçalves e Afrânio Carlos Murolo.\n",
    "\n",
    "#### Exemplo de Aplicação da página 143:\n",
    "\n",
    "Um feirante faz compras de ovos uma vez por semana num entreposto atacadista.\n",
    "Os ovos não vendidos dentro de uma semana se estragam, e são descartados, acarretando prejuízo de 400 u.m por dúzia.\n",
    "Por outro lado, a falta de produto para a venda também acarreta perda, estimada em 150 u.m por dúzia demandada e não vendida.\n",
    "O feirante anotou a demanda das últimas 20 semanas e dividiu-as em sete classes, conforme quadro abaixo:\n"
   ]
  },
  {
   "cell_type": "code",
   "execution_count": null,
   "metadata": {},
   "outputs": [],
   "source": [
    "setwd ('C:/FCD/DataScienceAcademy/MeusProjetos/R')\n",
    "getwd ()"
   ]
  },
  {
   "cell_type": "markdown",
   "metadata": {},
   "source": [
    "### Quadro"
   ]
  },
  {
   "cell_type": "code",
   "execution_count": null,
   "metadata": {},
   "outputs": [],
   "source": [
    "Quadro = data.frame(classe.LI = c(200, 210, 220, 230, 240, 250, 260),\n",
    "                    classe.LS = c(210, 220, 230, 240, 250, 260, 270),\n",
    "                    Media = c(205, 215, 225, 235, 245, 255, 265),\n",
    "                    Frequencia = c(2, 5, 9, 10, 7, 4, 3))\n",
    "Quadro"
   ]
  },
  {
   "cell_type": "markdown",
   "metadata": {},
   "source": [
    "#### Testar hipóteses\n",
    "\n",
    "1 - Comprar cada semana a demanda efetiva da semana anterior\n",
    "\n",
    "2 - Comprar uma quantidade igual a média histórica anotada no período anterior de 40 semanas (média = valor inteiro mais\n",
    "próximo da média verificada).\n",
    "\n",
    "3 - O exame dos resultados sugere o teste de outra hipótese?\n",
    "\n",
    "Vamos simular a primeira hipótese para 20 semanas. Os limites para os números aleatórios são obitidos através da frequência acumulada relativa, conforme mostra a tabela:"
   ]
  },
  {
   "cell_type": "markdown",
   "metadata": {},
   "source": [
    "### Tabela de Frequências\n",
    "\n",
    "LAI (Limite aleatório inferior) \n",
    "\n",
    "LAS (Limite aleatório Superior)"
   ]
  },
  {
   "cell_type": "code",
   "execution_count": null,
   "metadata": {
    "scrolled": true
   },
   "outputs": [],
   "source": [
    "Tabela.Frequencia = data.frame(Media = c(205, 215, 225, 235, 245, 255, 265),\n",
    "                     Frequencia = c(2, 5, 9, 10, 7, 4, 3),\n",
    "                     Freq.Relativa = c(5, 12.5, 22.5, 25, 17.5, 10, 7.5),\n",
    "                     Freq.Relativa.a.1000 = c(50, 125, 225, 250, 175, 100, 75),\n",
    "                     Freq.Acumulada = c(50, 175, 400, 650, 825, 925, 1000),\n",
    "                     LAI = c(0, 50, 175, 400, 650, 825, 925),\n",
    "                     LAS = c(49, 174, 399, 649, 824, 924, 999))\n",
    "Tabela.Frequencia"
   ]
  },
  {
   "cell_type": "markdown",
   "metadata": {},
   "source": [
    "A partir da tabela de números aleatórios, levantamos uma sequencia de vinte números de três algarismos, como já anteriormente descrito. Para iniciar o processo, vamos aceitar a demanda anterior à primeira semana igual a média do período anterior."
   ]
  },
  {
   "cell_type": "markdown",
   "metadata": {},
   "source": [
    "### Média Ponderada\n",
    "\n",
    "#### Função: weighted.mean()\n"
   ]
  },
  {
   "cell_type": "code",
   "execution_count": null,
   "metadata": {},
   "outputs": [],
   "source": [
    "MediaPonderada = round(weighted.mean(Tabela.Frequencia$Media, Tabela.Frequencia$Frequencia))\n",
    "MediaPonderada"
   ]
  },
  {
   "cell_type": "markdown",
   "metadata": {},
   "source": [
    "### Simulação de Monte Carlo \n",
    "\n",
    "#### 1ª Hipótese: \n",
    "Comprar cada semana a demanda efetiva da semana anterior"
   ]
  },
  {
   "cell_type": "code",
   "execution_count": null,
   "metadata": {},
   "outputs": [],
   "source": [
    "iteracoes = 20\n",
    "Semana = 0\n",
    "soma = 1\n",
    "\n",
    "Simulacao1 =  data.frame()\n",
    "N = 000:999\n",
    "\n",
    "for(x in 1:iteracoes){\n",
    "  \n",
    "  Semana = Semana + soma\n",
    "  ran = sample(N,1)\n",
    "  \n",
    "  if (ran <= Tabela.Frequencia$LAS[1]){\n",
    "    Demanda = Tabela.Frequencia$Media[1]\n",
    "    \n",
    "  }else if (ran > Tabela.Frequencia$LAS[1] & ran <= Tabela.Frequencia$LAS[2]){\n",
    "    Demanda = Tabela.Frequencia$Media[2]\n",
    "    \n",
    "  }else if (ran > Tabela.Frequencia$LAS[2] & ran <= Tabela.Frequencia$LAS[3]){\n",
    "    Demanda = Tabela.Frequencia$Media[3]\n",
    "    \n",
    "  }else if (ran > Tabela.Frequencia$LAS[3] & ran <= Tabela.Frequencia$LAS[4]){\n",
    "    Demanda = Tabela.Frequencia$Media[4]\n",
    "    \n",
    "  }else if (ran > Tabela.Frequencia$LAS[4] & ran <= Tabela.Frequencia$LAS[5]){\n",
    "    Demanda = Tabela.Frequencia$Media[5]\n",
    "    \n",
    "  }else if (ran > Tabela.Frequencia$LAS[5] & ran <= Tabela.Frequencia$LAS[6]){\n",
    "    Demanda = Tabela.Frequencia$Media[6]\n",
    "    \n",
    "  }else if (ran > Tabela.Frequencia$LAS[6] & ran <= Tabela.Frequencia$LAS[7]){\n",
    "    Demanda = Tabela.Frequencia$Media[7]\n",
    "  }\n",
    "  \n",
    " # Colunas\n",
    "    \n",
    " NumeralSemana = c(Semana)\n",
    " NumeroAleatorio = c(ran)\n",
    " Demanda = c(Demanda)\n",
    " \n",
    " EstoqueInicial = c(NA)\n",
    " Venda = c(NA)\n",
    "\n",
    " EstoqueFinal = c(NA)\n",
    " CustoFalta = c(NA)\n",
    " CustoSobras = c(NA)\n",
    " CustoTotal = c(NA)\n",
    "    \n",
    " Vetor = c(NumeralSemana, NumeroAleatorio, Demanda, EstoqueInicial, Venda, \n",
    "           EstoqueFinal, CustoFalta, CustoSobras, CustoTotal)\n",
    " \n",
    " Simulacao1 = rbind(Simulacao1, Vetor)\n",
    " colnames(Simulacao1) <- c(\"Semana\",\"Aleatorio\",\"Demanda\", \"Estoque.Inicial\",\n",
    "                          \"Venda\",\"Estoque.Final\",\"Custo.Falta\",\"Custo.Sobras\",\"Custo.Total\") \n",
    "}\n",
    "\n",
    "# Coluna Estoque.Inicial\n",
    "\n",
    "Simulacao1$Estoque.Inicial[c(1)] = MediaPonderada\n",
    "Simulacao1$Estoque.Inicial[c(2:20)] <- Simulacao1$Demanda[c(1:19)]\n",
    "\n",
    "# Coluna Venda\n",
    "\n",
    "for (x in 1:iteracoes){\n",
    "    if (Simulacao1$Demanda[x] < Simulacao1$Estoque.Inicial[x])\n",
    "        Simulacao1$Venda[x] = Simulacao1$Demanda[x]\n",
    "        else{\n",
    "            Simulacao1$Venda[x] = Simulacao1$Estoque.Inicial[x]      \n",
    "        }\n",
    "}\n",
    "\n",
    "# Coluna Estoque.Final\n",
    "for (x in 1:iteracoes){\n",
    "    Simulacao1$Estoque.Final[x] = Simulacao1$Estoque.Inicial[x] - Simulacao1$Venda[x]\n",
    "}\n",
    "\n",
    "# Coluna Custo.Falta\n",
    "for (x in 1:iteracoes){\n",
    "    if (Simulacao1$Demanda[x] > Simulacao1$Estoque.Inicial[x]){\n",
    "       Simulacao1$Custo.Falta[x] = (Simulacao1$Demanda[x] - Simulacao1$Estoque.Inicial[x]) * 150.00   \n",
    "    }else{\n",
    "       Simulacao1$Custo.Falta[x] = 0    \n",
    "     }\n",
    "}\n",
    "\n",
    "# Coluna Custo.Sobras\n",
    "for (x in 1:iteracoes){\n",
    "    Simulacao1$Custo.Sobras[x] = Simulacao1$Estoque.Final[x] * 400.00\n",
    "}\n",
    "\n",
    "# Coluna Custo.Total\n",
    "for (x in 1:iteracoes){\n",
    "    Simulacao1$Custo.Total[x] = Simulacao1$Custo.Falta[x] + Simulacao1$Custo.Sobras[x]\n",
    "}\n",
    "\n",
    "# Simulação\n",
    "\n",
    "Simulacao1"
   ]
  },
  {
   "cell_type": "markdown",
   "metadata": {},
   "source": [
    "#### Custo Total da 1ª hipótese:"
   ]
  },
  {
   "cell_type": "code",
   "execution_count": null,
   "metadata": {},
   "outputs": [],
   "source": [
    "Custo1 = sum(Simulacao1$Custo.Total)\n",
    "print(Custo1)"
   ]
  },
  {
   "cell_type": "markdown",
   "metadata": {},
   "source": [
    "### Simulação de Monte Carlo \n",
    "\n",
    "#### 2ª Hipótese: Comprar 235 toda semana.\n",
    "2 - Comprar uma quantidade igual a média histórica anotada no período anterior de 40 semanas (média = valor inteiro mais\n",
    "próximo da média verificada).\n"
   ]
  },
  {
   "cell_type": "code",
   "execution_count": null,
   "metadata": {},
   "outputs": [],
   "source": [
    "iteracoes = 20\n",
    "Semana = 0\n",
    "soma = 1\n",
    "\n",
    "Simulacao2 =  data.frame()\n",
    "N = 000:999\n",
    "\n",
    "for(x in 1:iteracoes){\n",
    "  \n",
    "  Semana = Semana + soma\n",
    "  ran = sample(N,1)\n",
    "  \n",
    "  if (ran <= Tabela.Frequencia$LAS[1]){\n",
    "    Demanda = Tabela.Frequencia$Media[1]\n",
    "    \n",
    "  }else if (ran > Tabela.Frequencia$LAS[1] & ran <= Tabela.Frequencia$LAS[2]){\n",
    "    Demanda = Tabela.Frequencia$Media[2]\n",
    "    \n",
    "  }else if (ran > Tabela.Frequencia$LAS[2] & ran <= Tabela.Frequencia$LAS[3]){\n",
    "    Demanda = Tabela.Frequencia$Media[3]\n",
    "    \n",
    "  }else if (ran > Tabela.Frequencia$LAS[3] & ran <= Tabela.Frequencia$LAS[4]){\n",
    "    Demanda = Tabela.Frequencia$Media[4]\n",
    "    \n",
    "  }else if (ran > Tabela.Frequencia$LAS[4] & ran <= Tabela.Frequencia$LAS[5]){\n",
    "    Demanda = Tabela.Frequencia$Media[5]\n",
    "    \n",
    "  }else if (ran > Tabela.Frequencia$LAS[5] & ran <= Tabela.Frequencia$LAS[6]){\n",
    "    Demanda = Tabela.Frequencia$Media[6]\n",
    "    \n",
    "  }else if (ran > Tabela.Frequencia$LAS[6] & ran <= Tabela.Frequencia$LAS[7]){\n",
    "    Demanda = Tabela.Frequencia$Media[7]\n",
    "  }\n",
    "  \n",
    " # Colunas  \n",
    " NumeralSemana = c(Semana)\n",
    " NumeroAleatorio = c(ran)\n",
    " Demanda = c(Demanda)\n",
    " \n",
    " EstoqueInicial = c(MediaPonderada)\n",
    " Venda = c(NA)\n",
    "\n",
    " EstoqueFinal = c(NA)\n",
    " CustoFalta = c(NA)\n",
    " CustoSobras = c(NA)\n",
    " CustoTotal = c(NA)\n",
    "    \n",
    " Vetor = c(NumeralSemana, NumeroAleatorio, Demanda, EstoqueInicial, Venda, \n",
    "           EstoqueFinal, CustoFalta, CustoSobras, CustoTotal)\n",
    " \n",
    " Simulacao2 = rbind(Simulacao2, Vetor)\n",
    " colnames(Simulacao2) <- c(\"Semana\",\"Aleatorio\",\"Demanda\", \"Estoque.Inicial\",\n",
    "                          \"Venda\",\"Estoque.Final\",\"Custo.Falta\",\"Custo.Sobras\",\"Custo.Total\") \n",
    "}\n",
    "\n",
    "# Coluna Venda\n",
    "\n",
    "for (x in 1:iteracoes){\n",
    "    if (Simulacao2$Demanda[x] < Simulacao2$Estoque.Inicial[x])\n",
    "        Simulacao2$Venda[x] = Simulacao2$Demanda[x]\n",
    "        else{\n",
    "            Simulacao2$Venda[x] = Simulacao2$Estoque.Inicial[x]      \n",
    "        }\n",
    "}\n",
    "\n",
    "# Coluna Estoque.Final\n",
    "for (x in 1:iteracoes){\n",
    "    Simulacao2$Estoque.Final[x] = Simulacao2$Estoque.Inicial[x] - Simulacao2$Venda[x]\n",
    "}\n",
    "\n",
    "# Coluna Custo.Falta\n",
    "for (x in 1:iteracoes){\n",
    "    if (Simulacao2$Demanda[x] > Simulacao2$Estoque.Inicial[x]){\n",
    "       Simulacao2$Custo.Falta[x] = (Simulacao2$Demanda[x] - Simulacao2$Estoque.Inicial[x]) * 150.00   \n",
    "    }else{\n",
    "       Simulacao2$Custo.Falta[x] = 0    \n",
    "     }\n",
    "}\n",
    "\n",
    "# Coluna Custo.Sobras\n",
    "for (x in 1:iteracoes){\n",
    "    Simulacao2$Custo.Sobras[x] = Simulacao2$Estoque.Final[x] * 400.00\n",
    "}\n",
    "\n",
    "# Coluna Custo.Total\n",
    "for (x in 1:iteracoes){\n",
    "    Simulacao2$Custo.Total[x] = Simulacao2$Custo.Falta[x] + Simulacao2$Custo.Sobras[x]\n",
    "}\n",
    "\n",
    "# Simulação\n",
    "\n",
    "Simulacao2"
   ]
  },
  {
   "cell_type": "markdown",
   "metadata": {},
   "source": [
    "#### Custo Total da 2ª hipótese:"
   ]
  },
  {
   "cell_type": "code",
   "execution_count": null,
   "metadata": {},
   "outputs": [],
   "source": [
    "Custo2 = sum(Simulacao2$Custo.Total)\n",
    "print(Custo2)"
   ]
  },
  {
   "cell_type": "markdown",
   "metadata": {},
   "source": [
    "O quadro mais favorável é o segundo. Observando a distribuição dos custos parece razoável pensar na hipótese de uma compra menor que a média histórica:\n",
    "\n",
    "Por exemplo: compra de 230 dúzias por semana."
   ]
  },
  {
   "cell_type": "markdown",
   "metadata": {},
   "source": [
    "### Simulação de Monte Carlo\n",
    "#### 3ª Hipótese:\n",
    "3 - O exame dos resultados sugere o teste de outra hipótese?"
   ]
  },
  {
   "cell_type": "code",
   "execution_count": null,
   "metadata": {},
   "outputs": [],
   "source": [
    "iteracoes = 20\n",
    "Semana = 0\n",
    "soma = 1\n",
    "\n",
    "Simulacao3 =  data.frame()\n",
    "N = 000:999\n",
    "\n",
    "for(x in 1:iteracoes){\n",
    "  \n",
    "  Semana = Semana + soma\n",
    "  ran = sample(N,1)\n",
    "  \n",
    "  if (ran <= Tabela.Frequencia$LAS[1]){\n",
    "    Demanda = Tabela.Frequencia$Media[1]\n",
    "    \n",
    "  }else if (ran > Tabela.Frequencia$LAS[1] & ran <= Tabela.Frequencia$LAS[2]){\n",
    "    Demanda = Tabela.Frequencia$Media[2]\n",
    "    \n",
    "  }else if (ran > Tabela.Frequencia$LAS[2] & ran <= Tabela.Frequencia$LAS[3]){\n",
    "    Demanda = Tabela.Frequencia$Media[3]\n",
    "    \n",
    "  }else if (ran > Tabela.Frequencia$LAS[3] & ran <= Tabela.Frequencia$LAS[4]){\n",
    "    Demanda = Tabela.Frequencia$Media[4]\n",
    "    \n",
    "  }else if (ran > Tabela.Frequencia$LAS[4] & ran <= Tabela.Frequencia$LAS[5]){\n",
    "    Demanda = Tabela.Frequencia$Media[5]\n",
    "    \n",
    "  }else if (ran > Tabela.Frequencia$LAS[5] & ran <= Tabela.Frequencia$LAS[6]){\n",
    "    Demanda = Tabela.Frequencia$Media[6]\n",
    "    \n",
    "  }else if (ran > Tabela.Frequencia$LAS[6] & ran <= Tabela.Frequencia$LAS[7]){\n",
    "    Demanda = Tabela.Frequencia$Media[7]\n",
    "  }\n",
    "  \n",
    " # Colunas  \n",
    " NumeralSemana = c(Semana)\n",
    " NumeroAleatorio = c(ran)\n",
    " Demanda = c(Demanda)\n",
    " \n",
    " EstoqueInicial = c(230)\n",
    " Venda = c(NA)\n",
    "\n",
    " EstoqueFinal = c(NA)\n",
    " CustoFalta = c(NA)\n",
    " CustoSobras = c(NA)\n",
    " CustoTotal = c(NA)\n",
    "    \n",
    " Vetor = c(NumeralSemana, NumeroAleatorio, Demanda, EstoqueInicial, Venda, \n",
    "           EstoqueFinal, CustoFalta, CustoSobras, CustoTotal)\n",
    " \n",
    " Simulacao3 = rbind(Simulacao3, Vetor)\n",
    " colnames(Simulacao3) <- c(\"Semana\",\"Aleatorio\",\"Demanda\", \"Estoque.Inicial\",\n",
    "                          \"Venda\",\"Estoque.Final\",\"Custo.Falta\",\"Custo.Sobras\",\"Custo.Total\") \n",
    "}\n",
    "\n",
    "# Coluna Venda\n",
    "\n",
    "for (x in 1:iteracoes){\n",
    "    if (Simulacao3$Demanda[x] < Simulacao3$Estoque.Inicial[x])\n",
    "        Simulacao3$Venda[x] = Simulacao3$Demanda[x]\n",
    "        else{\n",
    "            Simulacao3$Venda[x] = Simulacao3$Estoque.Inicial[x]      \n",
    "        }\n",
    "}\n",
    "\n",
    "# Coluna Estoque.Final\n",
    "for (x in 1:iteracoes){\n",
    "    Simulacao3$Estoque.Final[x] = Simulacao3$Estoque.Inicial[x] - Simulacao3$Venda[x]\n",
    "}\n",
    "\n",
    "# Coluna Custo.Falta\n",
    "for (x in 1:iteracoes){\n",
    "    if (Simulacao3$Demanda[x] > Simulacao3$Estoque.Inicial[x]){\n",
    "       Simulacao3$Custo.Falta[x] = (Simulacao3$Demanda[x] - Simulacao3$Estoque.Inicial[x]) * 150.00   \n",
    "    }else{\n",
    "       Simulacao3$Custo.Falta[x] = 0    \n",
    "     }\n",
    "}\n",
    "\n",
    "# Coluna Custo.Sobras\n",
    "for (x in 1:iteracoes){\n",
    "    Simulacao3$Custo.Sobras[x] = Simulacao3$Estoque.Final[x] * 400.00\n",
    "}\n",
    "\n",
    "# Coluna Custo.Total\n",
    "for (x in 1:iteracoes){\n",
    "    Simulacao3$Custo.Total[x] = Simulacao3$Custo.Falta[x] + Simulacao3$Custo.Sobras[x]\n",
    "}\n",
    "\n",
    "# Simulação\n",
    "\n",
    "Simulacao3"
   ]
  },
  {
   "cell_type": "markdown",
   "metadata": {},
   "source": [
    "#### Custo Total da 3ª hipótese:"
   ]
  },
  {
   "cell_type": "code",
   "execution_count": null,
   "metadata": {},
   "outputs": [],
   "source": [
    "Custo3 = sum(Simulacao3$Custo.Total)\n",
    "print(Custo3)"
   ]
  },
  {
   "cell_type": "markdown",
   "metadata": {},
   "source": [
    "Conclusão: das três hipóteses testadas, a terceira parece a mais favorável."
   ]
  }
 ],
 "metadata": {
  "kernelspec": {
   "display_name": "R",
   "language": "R",
   "name": "ir"
  },
  "language_info": {
   "codemirror_mode": "r",
   "file_extension": ".r",
   "mimetype": "text/x-r-source",
   "name": "R",
   "pygments_lexer": "r",
   "version": "3.6.1"
  }
 },
 "nbformat": 4,
 "nbformat_minor": 4
}
